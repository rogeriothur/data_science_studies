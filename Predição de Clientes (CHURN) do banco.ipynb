{
  "nbformat": 4,
  "nbformat_minor": 0,
  "metadata": {
    "colab": {
      "name": "smarkio XGBoost.ipynb",
      "provenance": [],
      "collapsed_sections": [
        "HsGVTVmGy7UN",
        "D2URy-Y1fO1X",
        "5G2BrZMx85gY"
      ],
      "toc_visible": true,
      "authorship_tag": "ABX9TyM9EN+vBp1sxUExihcJB7NP",
      "include_colab_link": true
    },
    "kernelspec": {
      "name": "python3",
      "display_name": "Python 3"
    },
    "language_info": {
      "name": "python"
    }
  },
  "cells": [
    {
      "cell_type": "markdown",
      "metadata": {
        "id": "view-in-github",
        "colab_type": "text"
      },
      "source": [
        "<a href=\"https://colab.research.google.com/github/rogeriothur/data_science_studies/blob/main/Predi%C3%A7%C3%A3o%20de%20Clientes%20(CHURN)%20do%20banco.ipynb\" target=\"_parent\"><img src=\"https://colab.research.google.com/assets/colab-badge.svg\" alt=\"Open In Colab\"/></a>"
      ]
    },
    {
      "cell_type": "markdown",
      "metadata": {
        "id": "HsGVTVmGy7UN"
      },
      "source": [
        "# **Previsão (churn) de clientes do banco**"
      ]
    },
    {
      "cell_type": "markdown",
      "metadata": {
        "id": "9As4wPCk6AZj"
      },
      "source": [
        "## Contextualização do problema\n",
        "Neste problema, o objetivo é prever os clientes que irão sair do banco.\n",
        "\n",
        "\n",
        "> OBJETIVO: Criar um modelo que classifique os clientes que vão sair do banco\n",
        "\n",
        "Espera-se que o modelo seja capaz de minimizar as perdas de clientes\n",
        "\n"
      ]
    },
    {
      "cell_type": "markdown",
      "metadata": {
        "id": "8xzUvMhjFFrg"
      },
      "source": [
        "## Importando bibliotecas\n",
        "## Obtendo os dados"
      ]
    },
    {
      "cell_type": "code",
      "metadata": {
        "id": "XhM9VPI-DzNW"
      },
      "source": [
        "import pandas as pd\n",
        "import numpy as np\n",
        "\n",
        "import matplotlib.pyplot as plt\n",
        "import seaborn as sns\n",
        "sns.set_style('darkgrid')\n",
        "\n",
        "import xgboost\n",
        "from sklearn.model_selection import train_test_split\n",
        "from sklearn.metrics import classification_report, confusion_matrix, accuracy_score\n",
        "\n",
        "from imblearn.over_sampling import SMOTE\n",
        "from imblearn.under_sampling import NearMiss\n",
        "\n",
        "import warnings\n",
        "warnings.filterwarnings('ignore')"
      ],
      "execution_count": 19,
      "outputs": []
    },
    {
      "cell_type": "code",
      "metadata": {
        "id": "8SX_ubOvEZLa"
      },
      "source": [
        "df = pd.read_csv('bank_customers.csv')"
      ],
      "execution_count": 20,
      "outputs": []
    },
    {
      "cell_type": "markdown",
      "metadata": {
        "id": "Q1gjSDbsGAaP"
      },
      "source": [
        "## Análise de dados"
      ]
    },
    {
      "cell_type": "markdown",
      "metadata": {
        "id": "YlOROdNaGGx-"
      },
      "source": [
        "**Dicionário das variáveis**\n",
        "\n",
        "* `RowNumber` - número do registro (linha)\n",
        "* `CustomerId` - identificação do cliente\n",
        "* `Surname` - sobrenome do cliente\n",
        "* `CreditScore` - pontuação de crédito\n",
        "* `Geography` - localização do cliente (país)\n",
        "* `Gender` - gênero do cliente\n",
        "* `Age` - idade do cliente\n",
        "* `Tenure` - tempo em que é cliente (anos)\n",
        "* `Balance` - saldo do cliente\n",
        "* `NumOfProducts` - número de produtos que o cliente comprou por meio do banco\n",
        "* `HasCrCard` - cliente possui cartão de crédito? (boolean)\n",
        "* `IsActiveMember` - é cliente ativo? (boolean)\n",
        "* `EstimatedSalary` - salário estimado\n",
        "* `Exited` - saiu do banco? (boolean)"
      ]
    },
    {
      "cell_type": "markdown",
      "metadata": {
        "id": "y892DlAiMpmh"
      },
      "source": [
        "**Informações que o dataset forneceu**\n",
        "\n",
        "* `RowNumber` - não tem efeito na saída do cliente\n",
        "* `CustomerId` - não tem efeito na saída do cliente\n",
        "* `Surname` - não tem efeito na saída do cliente\n",
        "* `CreditScore` - tem efeito na saída do cliente, uma vez que um cliente com uma pontuação de crédito mais alta tem menos probabilidade de deixar o banco\n",
        "* `Geography` - pode afetar sua decisão de deixar o banco\n",
        "* `Gender` - interessante explorar se desempenha um papel na saída do cliente\n",
        "* `Age` - clientes mais velhos têm menos probabilidade de sair do banco\n",
        "* `Tenure` - normalmente os clientes com mais tempo de casa são mais leais e menos propenso a deixar o banco\n",
        "* `Balance` - clientes com saldos mais altos têm menos probabilidade de deixar o banco\n",
        "* `HasCrCard` - clientes com cartão de crédito têm menos probabilidade de deixar o banco\n",
        "* `IsActiveMember` - clientes ativos tem menos probabilidade de deixar o banco \n",
        "* `EstimatedSalary` - similar ao saldo (balance)"
      ]
    },
    {
      "cell_type": "markdown",
      "metadata": {
        "id": "fgDTYuJYD7ru"
      },
      "source": [
        "### Conhecendo os dados"
      ]
    },
    {
      "cell_type": "code",
      "metadata": {
        "colab": {
          "base_uri": "https://localhost:8080/",
          "height": 204
        },
        "id": "_nnwiqikGI4u",
        "outputId": "1d4e009f-967c-41fe-b3cd-eae0ce017c66"
      },
      "source": [
        "df.head()"
      ],
      "execution_count": 21,
      "outputs": [
        {
          "output_type": "execute_result",
          "data": {
            "text/html": [
              "<div>\n",
              "<style scoped>\n",
              "    .dataframe tbody tr th:only-of-type {\n",
              "        vertical-align: middle;\n",
              "    }\n",
              "\n",
              "    .dataframe tbody tr th {\n",
              "        vertical-align: top;\n",
              "    }\n",
              "\n",
              "    .dataframe thead th {\n",
              "        text-align: right;\n",
              "    }\n",
              "</style>\n",
              "<table border=\"1\" class=\"dataframe\">\n",
              "  <thead>\n",
              "    <tr style=\"text-align: right;\">\n",
              "      <th></th>\n",
              "      <th>RowNumber</th>\n",
              "      <th>CustomerId</th>\n",
              "      <th>Surname</th>\n",
              "      <th>CreditScore</th>\n",
              "      <th>Geography</th>\n",
              "      <th>Gender</th>\n",
              "      <th>Age</th>\n",
              "      <th>Tenure</th>\n",
              "      <th>Balance</th>\n",
              "      <th>NumOfProducts</th>\n",
              "      <th>HasCrCard</th>\n",
              "      <th>IsActiveMember</th>\n",
              "      <th>EstimatedSalary</th>\n",
              "      <th>Exited</th>\n",
              "    </tr>\n",
              "  </thead>\n",
              "  <tbody>\n",
              "    <tr>\n",
              "      <th>0</th>\n",
              "      <td>1</td>\n",
              "      <td>15634602</td>\n",
              "      <td>Hargrave</td>\n",
              "      <td>619</td>\n",
              "      <td>France</td>\n",
              "      <td>Female</td>\n",
              "      <td>42</td>\n",
              "      <td>2</td>\n",
              "      <td>0.00</td>\n",
              "      <td>1</td>\n",
              "      <td>1</td>\n",
              "      <td>1</td>\n",
              "      <td>101348.88</td>\n",
              "      <td>1</td>\n",
              "    </tr>\n",
              "    <tr>\n",
              "      <th>1</th>\n",
              "      <td>2</td>\n",
              "      <td>15647311</td>\n",
              "      <td>Hill</td>\n",
              "      <td>608</td>\n",
              "      <td>Spain</td>\n",
              "      <td>Female</td>\n",
              "      <td>41</td>\n",
              "      <td>1</td>\n",
              "      <td>83807.86</td>\n",
              "      <td>1</td>\n",
              "      <td>0</td>\n",
              "      <td>1</td>\n",
              "      <td>112542.58</td>\n",
              "      <td>0</td>\n",
              "    </tr>\n",
              "    <tr>\n",
              "      <th>2</th>\n",
              "      <td>3</td>\n",
              "      <td>15619304</td>\n",
              "      <td>Onio</td>\n",
              "      <td>502</td>\n",
              "      <td>France</td>\n",
              "      <td>Female</td>\n",
              "      <td>42</td>\n",
              "      <td>8</td>\n",
              "      <td>159660.80</td>\n",
              "      <td>3</td>\n",
              "      <td>1</td>\n",
              "      <td>0</td>\n",
              "      <td>113931.57</td>\n",
              "      <td>1</td>\n",
              "    </tr>\n",
              "    <tr>\n",
              "      <th>3</th>\n",
              "      <td>4</td>\n",
              "      <td>15701354</td>\n",
              "      <td>Boni</td>\n",
              "      <td>699</td>\n",
              "      <td>France</td>\n",
              "      <td>Female</td>\n",
              "      <td>39</td>\n",
              "      <td>1</td>\n",
              "      <td>0.00</td>\n",
              "      <td>2</td>\n",
              "      <td>0</td>\n",
              "      <td>0</td>\n",
              "      <td>93826.63</td>\n",
              "      <td>0</td>\n",
              "    </tr>\n",
              "    <tr>\n",
              "      <th>4</th>\n",
              "      <td>5</td>\n",
              "      <td>15737888</td>\n",
              "      <td>Mitchell</td>\n",
              "      <td>850</td>\n",
              "      <td>Spain</td>\n",
              "      <td>Female</td>\n",
              "      <td>43</td>\n",
              "      <td>2</td>\n",
              "      <td>125510.82</td>\n",
              "      <td>1</td>\n",
              "      <td>1</td>\n",
              "      <td>1</td>\n",
              "      <td>79084.10</td>\n",
              "      <td>0</td>\n",
              "    </tr>\n",
              "  </tbody>\n",
              "</table>\n",
              "</div>"
            ],
            "text/plain": [
              "   RowNumber  CustomerId   Surname  ...  IsActiveMember EstimatedSalary Exited\n",
              "0          1    15634602  Hargrave  ...               1       101348.88      1\n",
              "1          2    15647311      Hill  ...               1       112542.58      0\n",
              "2          3    15619304      Onio  ...               0       113931.57      1\n",
              "3          4    15701354      Boni  ...               0        93826.63      0\n",
              "4          5    15737888  Mitchell  ...               1        79084.10      0\n",
              "\n",
              "[5 rows x 14 columns]"
            ]
          },
          "metadata": {},
          "execution_count": 21
        }
      ]
    },
    {
      "cell_type": "markdown",
      "metadata": {
        "id": "Rqd1HuyMcDlK"
      },
      "source": [
        "### Quantos atributos (variáveis) e quantas entradas o nosso conjunto de dados possui?\n",
        "### Quais os tipos das variáveis?\n",
        "### Qual a porcentagem de valores ausentes no *dataset*?\n",
        "\n",
        "Vamos prosseguir e identificar a quantidade de entradas que nosso conjunto de dados possui e ver os tipos de cada coluna"
      ]
    },
    {
      "cell_type": "code",
      "metadata": {
        "colab": {
          "base_uri": "https://localhost:8080/",
          "height": 297
        },
        "id": "M0RMmPZBj_zL",
        "outputId": "af72e73c-0a51-452e-aeda-7ce37ba0536f"
      },
      "source": [
        "df.describe()"
      ],
      "execution_count": 22,
      "outputs": [
        {
          "output_type": "execute_result",
          "data": {
            "text/html": [
              "<div>\n",
              "<style scoped>\n",
              "    .dataframe tbody tr th:only-of-type {\n",
              "        vertical-align: middle;\n",
              "    }\n",
              "\n",
              "    .dataframe tbody tr th {\n",
              "        vertical-align: top;\n",
              "    }\n",
              "\n",
              "    .dataframe thead th {\n",
              "        text-align: right;\n",
              "    }\n",
              "</style>\n",
              "<table border=\"1\" class=\"dataframe\">\n",
              "  <thead>\n",
              "    <tr style=\"text-align: right;\">\n",
              "      <th></th>\n",
              "      <th>RowNumber</th>\n",
              "      <th>CustomerId</th>\n",
              "      <th>CreditScore</th>\n",
              "      <th>Age</th>\n",
              "      <th>Tenure</th>\n",
              "      <th>Balance</th>\n",
              "      <th>NumOfProducts</th>\n",
              "      <th>HasCrCard</th>\n",
              "      <th>IsActiveMember</th>\n",
              "      <th>EstimatedSalary</th>\n",
              "      <th>Exited</th>\n",
              "    </tr>\n",
              "  </thead>\n",
              "  <tbody>\n",
              "    <tr>\n",
              "      <th>count</th>\n",
              "      <td>10000.00000</td>\n",
              "      <td>1.000000e+04</td>\n",
              "      <td>10000.000000</td>\n",
              "      <td>10000.000000</td>\n",
              "      <td>10000.000000</td>\n",
              "      <td>10000.000000</td>\n",
              "      <td>10000.000000</td>\n",
              "      <td>10000.00000</td>\n",
              "      <td>10000.000000</td>\n",
              "      <td>10000.000000</td>\n",
              "      <td>10000.000000</td>\n",
              "    </tr>\n",
              "    <tr>\n",
              "      <th>mean</th>\n",
              "      <td>5000.50000</td>\n",
              "      <td>1.569094e+07</td>\n",
              "      <td>650.528800</td>\n",
              "      <td>38.921800</td>\n",
              "      <td>5.012800</td>\n",
              "      <td>76485.889288</td>\n",
              "      <td>1.530200</td>\n",
              "      <td>0.70550</td>\n",
              "      <td>0.515100</td>\n",
              "      <td>100090.239881</td>\n",
              "      <td>0.203700</td>\n",
              "    </tr>\n",
              "    <tr>\n",
              "      <th>std</th>\n",
              "      <td>2886.89568</td>\n",
              "      <td>7.193619e+04</td>\n",
              "      <td>96.653299</td>\n",
              "      <td>10.487806</td>\n",
              "      <td>2.892174</td>\n",
              "      <td>62397.405202</td>\n",
              "      <td>0.581654</td>\n",
              "      <td>0.45584</td>\n",
              "      <td>0.499797</td>\n",
              "      <td>57510.492818</td>\n",
              "      <td>0.402769</td>\n",
              "    </tr>\n",
              "    <tr>\n",
              "      <th>min</th>\n",
              "      <td>1.00000</td>\n",
              "      <td>1.556570e+07</td>\n",
              "      <td>350.000000</td>\n",
              "      <td>18.000000</td>\n",
              "      <td>0.000000</td>\n",
              "      <td>0.000000</td>\n",
              "      <td>1.000000</td>\n",
              "      <td>0.00000</td>\n",
              "      <td>0.000000</td>\n",
              "      <td>11.580000</td>\n",
              "      <td>0.000000</td>\n",
              "    </tr>\n",
              "    <tr>\n",
              "      <th>25%</th>\n",
              "      <td>2500.75000</td>\n",
              "      <td>1.562853e+07</td>\n",
              "      <td>584.000000</td>\n",
              "      <td>32.000000</td>\n",
              "      <td>3.000000</td>\n",
              "      <td>0.000000</td>\n",
              "      <td>1.000000</td>\n",
              "      <td>0.00000</td>\n",
              "      <td>0.000000</td>\n",
              "      <td>51002.110000</td>\n",
              "      <td>0.000000</td>\n",
              "    </tr>\n",
              "    <tr>\n",
              "      <th>50%</th>\n",
              "      <td>5000.50000</td>\n",
              "      <td>1.569074e+07</td>\n",
              "      <td>652.000000</td>\n",
              "      <td>37.000000</td>\n",
              "      <td>5.000000</td>\n",
              "      <td>97198.540000</td>\n",
              "      <td>1.000000</td>\n",
              "      <td>1.00000</td>\n",
              "      <td>1.000000</td>\n",
              "      <td>100193.915000</td>\n",
              "      <td>0.000000</td>\n",
              "    </tr>\n",
              "    <tr>\n",
              "      <th>75%</th>\n",
              "      <td>7500.25000</td>\n",
              "      <td>1.575323e+07</td>\n",
              "      <td>718.000000</td>\n",
              "      <td>44.000000</td>\n",
              "      <td>7.000000</td>\n",
              "      <td>127644.240000</td>\n",
              "      <td>2.000000</td>\n",
              "      <td>1.00000</td>\n",
              "      <td>1.000000</td>\n",
              "      <td>149388.247500</td>\n",
              "      <td>0.000000</td>\n",
              "    </tr>\n",
              "    <tr>\n",
              "      <th>max</th>\n",
              "      <td>10000.00000</td>\n",
              "      <td>1.581569e+07</td>\n",
              "      <td>850.000000</td>\n",
              "      <td>92.000000</td>\n",
              "      <td>10.000000</td>\n",
              "      <td>250898.090000</td>\n",
              "      <td>4.000000</td>\n",
              "      <td>1.00000</td>\n",
              "      <td>1.000000</td>\n",
              "      <td>199992.480000</td>\n",
              "      <td>1.000000</td>\n",
              "    </tr>\n",
              "  </tbody>\n",
              "</table>\n",
              "</div>"
            ],
            "text/plain": [
              "         RowNumber    CustomerId  ...  EstimatedSalary        Exited\n",
              "count  10000.00000  1.000000e+04  ...     10000.000000  10000.000000\n",
              "mean    5000.50000  1.569094e+07  ...    100090.239881      0.203700\n",
              "std     2886.89568  7.193619e+04  ...     57510.492818      0.402769\n",
              "min        1.00000  1.556570e+07  ...        11.580000      0.000000\n",
              "25%     2500.75000  1.562853e+07  ...     51002.110000      0.000000\n",
              "50%     5000.50000  1.569074e+07  ...    100193.915000      0.000000\n",
              "75%     7500.25000  1.575323e+07  ...    149388.247500      0.000000\n",
              "max    10000.00000  1.581569e+07  ...    199992.480000      1.000000\n",
              "\n",
              "[8 rows x 11 columns]"
            ]
          },
          "metadata": {},
          "execution_count": 22
        }
      ]
    },
    {
      "cell_type": "code",
      "metadata": {
        "id": "UuhGcuaDbZGF"
      },
      "source": [
        "def eda(df):\n",
        "    \"\"\"\n",
        "    Gera uma dataframe com informações relevantes sobre o mesmo.\n",
        "    Generates a dataframe with relevant information about it\n",
        "    \n",
        "    :param df: pd.DataFrame para ser realizada a exploração\n",
        "    :param df: pd.DataFrameto be explored\n",
        "    \"\"\"\n",
        "    \n",
        "    explorar = pd.DataFrame({\n",
        "        'tipo' : df.dtypes,\n",
        "        'quantidade_nula' : df.isnull().sum()\n",
        "    })\n",
        "    \n",
        "    explorar['porcentagem_nula'] = np.round((explorar.quantidade_nula / df.shape[0]) * 100, 4)\n",
        "    \n",
        "    display(f'Entradas: {df.shape[0]}')\n",
        "    display(f'Variáveis: {df.shape[1]}')\n",
        "    \n",
        "    return explorar.sort_values(by='quantidade_nula', ascending=False)"
      ],
      "execution_count": 23,
      "outputs": []
    },
    {
      "cell_type": "code",
      "metadata": {
        "colab": {
          "base_uri": "https://localhost:8080/",
          "height": 519
        },
        "id": "x23nIsGybz5E",
        "outputId": "0a2e9896-a304-4af4-ef97-0f7670b19332"
      },
      "source": [
        "eda(df)"
      ],
      "execution_count": 24,
      "outputs": [
        {
          "output_type": "display_data",
          "data": {
            "application/vnd.google.colaboratory.intrinsic+json": {
              "type": "string"
            },
            "text/plain": [
              "'Entradas: 10000'"
            ]
          },
          "metadata": {}
        },
        {
          "output_type": "display_data",
          "data": {
            "application/vnd.google.colaboratory.intrinsic+json": {
              "type": "string"
            },
            "text/plain": [
              "'Variáveis: 14'"
            ]
          },
          "metadata": {}
        },
        {
          "output_type": "execute_result",
          "data": {
            "text/html": [
              "<div>\n",
              "<style scoped>\n",
              "    .dataframe tbody tr th:only-of-type {\n",
              "        vertical-align: middle;\n",
              "    }\n",
              "\n",
              "    .dataframe tbody tr th {\n",
              "        vertical-align: top;\n",
              "    }\n",
              "\n",
              "    .dataframe thead th {\n",
              "        text-align: right;\n",
              "    }\n",
              "</style>\n",
              "<table border=\"1\" class=\"dataframe\">\n",
              "  <thead>\n",
              "    <tr style=\"text-align: right;\">\n",
              "      <th></th>\n",
              "      <th>tipo</th>\n",
              "      <th>quantidade_nula</th>\n",
              "      <th>porcentagem_nula</th>\n",
              "    </tr>\n",
              "  </thead>\n",
              "  <tbody>\n",
              "    <tr>\n",
              "      <th>RowNumber</th>\n",
              "      <td>int64</td>\n",
              "      <td>0</td>\n",
              "      <td>0.0</td>\n",
              "    </tr>\n",
              "    <tr>\n",
              "      <th>CustomerId</th>\n",
              "      <td>int64</td>\n",
              "      <td>0</td>\n",
              "      <td>0.0</td>\n",
              "    </tr>\n",
              "    <tr>\n",
              "      <th>Surname</th>\n",
              "      <td>object</td>\n",
              "      <td>0</td>\n",
              "      <td>0.0</td>\n",
              "    </tr>\n",
              "    <tr>\n",
              "      <th>CreditScore</th>\n",
              "      <td>int64</td>\n",
              "      <td>0</td>\n",
              "      <td>0.0</td>\n",
              "    </tr>\n",
              "    <tr>\n",
              "      <th>Geography</th>\n",
              "      <td>object</td>\n",
              "      <td>0</td>\n",
              "      <td>0.0</td>\n",
              "    </tr>\n",
              "    <tr>\n",
              "      <th>Gender</th>\n",
              "      <td>object</td>\n",
              "      <td>0</td>\n",
              "      <td>0.0</td>\n",
              "    </tr>\n",
              "    <tr>\n",
              "      <th>Age</th>\n",
              "      <td>int64</td>\n",
              "      <td>0</td>\n",
              "      <td>0.0</td>\n",
              "    </tr>\n",
              "    <tr>\n",
              "      <th>Tenure</th>\n",
              "      <td>int64</td>\n",
              "      <td>0</td>\n",
              "      <td>0.0</td>\n",
              "    </tr>\n",
              "    <tr>\n",
              "      <th>Balance</th>\n",
              "      <td>float64</td>\n",
              "      <td>0</td>\n",
              "      <td>0.0</td>\n",
              "    </tr>\n",
              "    <tr>\n",
              "      <th>NumOfProducts</th>\n",
              "      <td>int64</td>\n",
              "      <td>0</td>\n",
              "      <td>0.0</td>\n",
              "    </tr>\n",
              "    <tr>\n",
              "      <th>HasCrCard</th>\n",
              "      <td>int64</td>\n",
              "      <td>0</td>\n",
              "      <td>0.0</td>\n",
              "    </tr>\n",
              "    <tr>\n",
              "      <th>IsActiveMember</th>\n",
              "      <td>int64</td>\n",
              "      <td>0</td>\n",
              "      <td>0.0</td>\n",
              "    </tr>\n",
              "    <tr>\n",
              "      <th>EstimatedSalary</th>\n",
              "      <td>float64</td>\n",
              "      <td>0</td>\n",
              "      <td>0.0</td>\n",
              "    </tr>\n",
              "    <tr>\n",
              "      <th>Exited</th>\n",
              "      <td>int64</td>\n",
              "      <td>0</td>\n",
              "      <td>0.0</td>\n",
              "    </tr>\n",
              "  </tbody>\n",
              "</table>\n",
              "</div>"
            ],
            "text/plain": [
              "                    tipo  quantidade_nula  porcentagem_nula\n",
              "RowNumber          int64                0               0.0\n",
              "CustomerId         int64                0               0.0\n",
              "Surname           object                0               0.0\n",
              "CreditScore        int64                0               0.0\n",
              "Geography         object                0               0.0\n",
              "Gender            object                0               0.0\n",
              "Age                int64                0               0.0\n",
              "Tenure             int64                0               0.0\n",
              "Balance          float64                0               0.0\n",
              "NumOfProducts      int64                0               0.0\n",
              "HasCrCard          int64                0               0.0\n",
              "IsActiveMember     int64                0               0.0\n",
              "EstimatedSalary  float64                0               0.0\n",
              "Exited             int64                0               0.0"
            ]
          },
          "metadata": {},
          "execution_count": 24
        }
      ]
    },
    {
      "cell_type": "markdown",
      "metadata": {
        "id": "gcHgJRRfdVZQ"
      },
      "source": [
        "#### Conclusões:\n",
        "\n",
        "\n",
        "*   O DataFrame possui 14 variáveis e 10k de entradas\n",
        "*   Existem variáveis do tipo int, object e float\n",
        "*   Não tem valores ausentes\n",
        "\n"
      ]
    },
    {
      "cell_type": "markdown",
      "metadata": {
        "id": "D2URy-Y1fO1X"
      },
      "source": [
        "## Qual o tipo de distribuição das variáveis?\n",
        "Para identificar a distribuição das variáveis, irei plotar o histograma"
      ]
    },
    {
      "cell_type": "code",
      "metadata": {
        "colab": {
          "base_uri": "https://localhost:8080/",
          "height": 607
        },
        "id": "xPWMf-lIg2px",
        "outputId": "73ab666f-787a-4e37-d025-5e7b17e9901c"
      },
      "source": [
        "df.hist(bins=15,figsize=(15,10))\n",
        "plt.show()"
      ],
      "execution_count": 25,
      "outputs": [
        {
          "output_type": "display_data",
          "data": {
            "image/png": "[encoded data removed]",
            "text/plain": [
              "<Figure size 1080x720 with 12 Axes>"
            ]
          },
          "metadata": {}
        }
      ]
    },
    {
      "cell_type": "markdown",
      "metadata": {
        "id": "RRHz-quBhyly"
      },
      "source": [
        "### Conclusões:\n",
        "\n",
        "\n",
        "*   CreditScore está em uma distribuição próxima a uma normal\n",
        "*   Idade (distribuição assimétrica positiva, média > mediana > moda)\n",
        "\n"
      ]
    },
    {
      "cell_type": "markdown",
      "metadata": {
        "id": "RwFRpOKbzuZR"
      },
      "source": [
        "### Ações:\n",
        "\n",
        "\n",
        "*   Excluir colunas que não tem impacto no modelo\n",
        "*   Alterar tipo das variáveis\n",
        "\n",
        "\n"
      ]
    },
    {
      "cell_type": "code",
      "metadata": {
        "id": "MgfdOyZ70C6_"
      },
      "source": [
        "df.drop(columns=['RowNumber', 'Surname', 'CustomerId'], inplace=True)"
      ],
      "execution_count": 26,
      "outputs": []
    },
    {
      "cell_type": "markdown",
      "metadata": {
        "id": "hFr2gRhh1J0Q"
      },
      "source": [
        "## Verificar *outliers* nos dados"
      ]
    },
    {
      "cell_type": "code",
      "metadata": {
        "id": "OY-gIxcH7qwY"
      },
      "source": [
        "def amplitude_interquartil(df, coluna):\n",
        "    \n",
        "    q1 = coluna.quantile(.25)\n",
        "    q3 = coluna.quantile(.75)\n",
        "    iiq = q3 - q1\n",
        "    \n",
        "    limite_inferior = q1 - (1.5 * iiq)\n",
        "    limite_superior = q3 + (1.5 * iiq)\n",
        "    \n",
        "    filtro = (coluna >= limite_inferior) & (coluna <= limite_superior)\n",
        "    return df[filtro]"
      ],
      "execution_count": 27,
      "outputs": []
    },
    {
      "cell_type": "markdown",
      "metadata": {
        "id": "0GEok8Qd2Bk6"
      },
      "source": [
        "### Variável CreditScore"
      ]
    },
    {
      "cell_type": "code",
      "metadata": {
        "colab": {
          "base_uri": "https://localhost:8080/",
          "height": 362
        },
        "id": "lkwOjlB81Ijt",
        "outputId": "edc9d40a-7ea4-4ef7-9cb2-bfa764b46446"
      },
      "source": [
        "plt.figure(figsize=(10,5))\n",
        "plt.title('Distribuição CreditScore', fontsize=18)\n",
        "plt.xlabel('',fontsize=18)\n",
        "plt.ylabel('Frequência',fontsize=16)\n",
        "\n",
        "sns.distplot(df.CreditScore)\n",
        "plt.show()"
      ],
      "execution_count": 28,
      "outputs": [
        {
          "output_type": "display_data",
          "data": {
            "image/png": "[encoded data removed]",
            "text/plain": [
              "<Figure size 720x360 with 1 Axes>"
            ]
          },
          "metadata": {}
        }
      ]
    },
    {
      "cell_type": "code",
      "metadata": {
        "colab": {
          "base_uri": "https://localhost:8080/",
          "height": 362
        },
        "id": "DQXnomrs2Z5z",
        "outputId": "bdaab2e3-9fe0-4fa4-eac3-33c302c8090f"
      },
      "source": [
        "plt.figure(figsize=(10,5))\n",
        "plt.title('Boxplot CreditScore', fontsize=18)\n",
        "plt.xlabel('',fontsize=18)\n",
        "\n",
        "sns.boxplot(x='CreditScore', data=df)\n",
        "\n",
        "plt.show()"
      ],
      "execution_count": 29,
      "outputs": [
        {
          "output_type": "display_data",
          "data": {
            "image/png": "[encoded data removed]",
            "text/plain": [
              "<Figure size 720x360 with 1 Axes>"
            ]
          },
          "metadata": {}
        }
      ]
    },
    {
      "cell_type": "code",
      "metadata": {
        "id": "v9qeKjZ22w8B"
      },
      "source": [
        "#df = amplitude_interquartil(df, df.CreditScore.sort_values())"
      ],
      "execution_count": 30,
      "outputs": []
    },
    {
      "cell_type": "code",
      "metadata": {
        "colab": {
          "base_uri": "https://localhost:8080/",
          "height": 362
        },
        "id": "Ks-vJRjq7nYP",
        "outputId": "711ca4b8-f862-4d85-8a5a-b45abefcefa3"
      },
      "source": [
        "plt.figure(figsize=(10,5))\n",
        "plt.title('Boxplot CreditScore', fontsize=18)\n",
        "plt.xlabel('',fontsize=18)\n",
        "\n",
        "sns.boxplot(x='CreditScore', data=df)\n",
        "\n",
        "plt.show()"
      ],
      "execution_count": 31,
      "outputs": [
        {
          "output_type": "display_data",
          "data": {
            "image/png": "[encoded data removed]",
            "text/plain": [
              "<Figure size 720x360 with 1 Axes>"
            ]
          },
          "metadata": {}
        }
      ]
    },
    {
      "cell_type": "markdown",
      "metadata": {
        "id": "cfelR7AM-06n"
      },
      "source": [
        "### Variável Age\n"
      ]
    },
    {
      "cell_type": "code",
      "metadata": {
        "colab": {
          "base_uri": "https://localhost:8080/",
          "height": 362
        },
        "id": "GBSgr0BW-5Vm",
        "outputId": "c63fcae7-bf8e-4950-ccb2-81653cd0cceb"
      },
      "source": [
        "plt.figure(figsize=(10,5))\n",
        "plt.title('Boxplot Age', fontsize=18)\n",
        "plt.xlabel('',fontsize=18)\n",
        "\n",
        "sns.boxplot(x='Age', data=df)\n",
        "\n",
        "plt.show()"
      ],
      "execution_count": 32,
      "outputs": [
        {
          "output_type": "display_data",
          "data": {
            "image/png": "[encoded data removed]",
            "text/plain": [
              "<Figure size 720x360 with 1 Axes>"
            ]
          },
          "metadata": {}
        }
      ]
    },
    {
      "cell_type": "code",
      "metadata": {
        "id": "OO0PteHf-7N1"
      },
      "source": [
        "#df = amplitude_interquartil(df, df.Age.sort_values())"
      ],
      "execution_count": 33,
      "outputs": []
    },
    {
      "cell_type": "code",
      "metadata": {
        "colab": {
          "base_uri": "https://localhost:8080/",
          "height": 362
        },
        "id": "a4ZXbkU-_HvP",
        "outputId": "f7ea2c60-9766-41fb-fc5a-e3feeb756cb6"
      },
      "source": [
        "plt.figure(figsize=(10,5))\n",
        "plt.title('Boxplot Age', fontsize=18)\n",
        "plt.xlabel('',fontsize=18)\n",
        "\n",
        "sns.boxplot(x='Age', data=df)\n",
        "\n",
        "plt.show()"
      ],
      "execution_count": 34,
      "outputs": [
        {
          "output_type": "display_data",
          "data": {
            "image/png": "[encoded data removed]",
            "text/plain": [
              "<Figure size 720x360 with 1 Axes>"
            ]
          },
          "metadata": {}
        }
      ]
    },
    {
      "cell_type": "markdown",
      "metadata": {
        "id": "A7xVf9BSg-f-"
      },
      "source": [
        "## Visualizações"
      ]
    },
    {
      "cell_type": "code",
      "metadata": {
        "colab": {
          "base_uri": "https://localhost:8080/",
          "height": 365
        },
        "id": "DMxwk1G3p_cd",
        "outputId": "bd7e911a-0f86-4d3b-ab1e-cd484a062175"
      },
      "source": [
        "plt.figure(figsize=(10,5))\n",
        "plt.title('Distribuição da localização', fontsize=18)\n",
        "plt.xlabel('',fontsize=18)\n",
        "plt.xticks(fontsize=12)\n",
        "plt.yticks(fontsize=12)\n",
        "\n",
        "sns.countplot(data=df, x='Geography')\n",
        "\n",
        "plt.show()"
      ],
      "execution_count": 35,
      "outputs": [
        {
          "output_type": "display_data",
          "data": {
            "image/png": "[encoded data removed]",
            "text/plain": [
              "<Figure size 720x360 with 1 Axes>"
            ]
          },
          "metadata": {}
        }
      ]
    },
    {
      "cell_type": "code",
      "metadata": {
        "colab": {
          "base_uri": "https://localhost:8080/",
          "height": 886
        },
        "id": "n4nRqj0Lg7EL",
        "outputId": "43923751-799a-440c-b227-9077e8422128"
      },
      "source": [
        "correlations = df.corr()\n",
        "\n",
        "plt.figure(figsize=(20,15))\n",
        "plt.title(\"Mapa de calor (Correlação)\", fontsize=18)\n",
        "plt.xticks(fontsize=12)\n",
        "plt.yticks(fontsize=12)\n",
        "\n",
        "sns.heatmap(correlations, annot=True, cmap=\"PRGn\", linewidths=.5)\n",
        "\n",
        "plt.show()"
      ],
      "execution_count": 36,
      "outputs": [
        {
          "output_type": "display_data",
          "data": {
            "image/png": "[encoded data removed]",
            "text/plain": [
              "<Figure size 1440x1080 with 2 Axes>"
            ]
          },
          "metadata": {}
        }
      ]
    },
    {
      "cell_type": "code",
      "metadata": {
        "colab": {
          "base_uri": "https://localhost:8080/",
          "height": 365
        },
        "id": "16EOB2Qbg25l",
        "outputId": "2ebac07a-e062-4e17-ac7e-fd39a5f87ddf"
      },
      "source": [
        "plt.figure(figsize=(10,5))\n",
        "plt.title('Variável alvo está desbalanceada', fontsize=18)\n",
        "plt.xlabel('',fontsize=18)\n",
        "plt.xticks(fontsize=12)\n",
        "plt.yticks(fontsize=12)\n",
        "\n",
        "sns.countplot(data=df, x='Exited')\n",
        "\n",
        "plt.show()"
      ],
      "execution_count": 37,
      "outputs": [
        {
          "output_type": "display_data",
          "data": {
            "image/png": "[encoded data removed]",
            "text/plain": [
              "<Figure size 720x360 with 1 Axes>"
            ]
          },
          "metadata": {}
        }
      ]
    },
    {
      "cell_type": "markdown",
      "metadata": {
        "id": "FrlRR8h1ow2g"
      },
      "source": [
        "- Com classes desbalanceada o modelo irá ficar enviesado, pois irá aprender muito sobre um classe da nossa variável alvo e pouco de outra classe\n",
        "- Mas neste contexto é natural que essa variável esteja desbalanceada, pois é mais comum os clientes permaneçam no banco do que deixarem o banco (*comum para o contexto*)"
      ]
    },
    {
      "cell_type": "markdown",
      "metadata": {
        "id": "4kAx4VVInOyX"
      },
      "source": [
        "## Transformando colunas categóricas em numéricas\n",
        "- pois temos algumas colunas categóricas, precisamos transformar isso para fornecer ao nosso modelo somente dados do tipo númerico\n",
        "- Com o método *get_dummies* cada string única foi transformada em um coluna, e nesta coluna caso o registro existir recebe 1 e 0 nas outras colunas"
      ]
    },
    {
      "cell_type": "code",
      "metadata": {
        "colab": {
          "base_uri": "https://localhost:8080/",
          "height": 204
        },
        "id": "aRgMssv4eied",
        "outputId": "88d807d9-b936-4f87-9430-0876a127dbf1"
      },
      "source": [
        "df.head()"
      ],
      "execution_count": 38,
      "outputs": [
        {
          "output_type": "execute_result",
          "data": {
            "text/html": [
              "<div>\n",
              "<style scoped>\n",
              "    .dataframe tbody tr th:only-of-type {\n",
              "        vertical-align: middle;\n",
              "    }\n",
              "\n",
              "    .dataframe tbody tr th {\n",
              "        vertical-align: top;\n",
              "    }\n",
              "\n",
              "    .dataframe thead th {\n",
              "        text-align: right;\n",
              "    }\n",
              "</style>\n",
              "<table border=\"1\" class=\"dataframe\">\n",
              "  <thead>\n",
              "    <tr style=\"text-align: right;\">\n",
              "      <th></th>\n",
              "      <th>CreditScore</th>\n",
              "      <th>Geography</th>\n",
              "      <th>Gender</th>\n",
              "      <th>Age</th>\n",
              "      <th>Tenure</th>\n",
              "      <th>Balance</th>\n",
              "      <th>NumOfProducts</th>\n",
              "      <th>HasCrCard</th>\n",
              "      <th>IsActiveMember</th>\n",
              "      <th>EstimatedSalary</th>\n",
              "      <th>Exited</th>\n",
              "    </tr>\n",
              "  </thead>\n",
              "  <tbody>\n",
              "    <tr>\n",
              "      <th>0</th>\n",
              "      <td>619</td>\n",
              "      <td>France</td>\n",
              "      <td>Female</td>\n",
              "      <td>42</td>\n",
              "      <td>2</td>\n",
              "      <td>0.00</td>\n",
              "      <td>1</td>\n",
              "      <td>1</td>\n",
              "      <td>1</td>\n",
              "      <td>101348.88</td>\n",
              "      <td>1</td>\n",
              "    </tr>\n",
              "    <tr>\n",
              "      <th>1</th>\n",
              "      <td>608</td>\n",
              "      <td>Spain</td>\n",
              "      <td>Female</td>\n",
              "      <td>41</td>\n",
              "      <td>1</td>\n",
              "      <td>83807.86</td>\n",
              "      <td>1</td>\n",
              "      <td>0</td>\n",
              "      <td>1</td>\n",
              "      <td>112542.58</td>\n",
              "      <td>0</td>\n",
              "    </tr>\n",
              "    <tr>\n",
              "      <th>2</th>\n",
              "      <td>502</td>\n",
              "      <td>France</td>\n",
              "      <td>Female</td>\n",
              "      <td>42</td>\n",
              "      <td>8</td>\n",
              "      <td>159660.80</td>\n",
              "      <td>3</td>\n",
              "      <td>1</td>\n",
              "      <td>0</td>\n",
              "      <td>113931.57</td>\n",
              "      <td>1</td>\n",
              "    </tr>\n",
              "    <tr>\n",
              "      <th>3</th>\n",
              "      <td>699</td>\n",
              "      <td>France</td>\n",
              "      <td>Female</td>\n",
              "      <td>39</td>\n",
              "      <td>1</td>\n",
              "      <td>0.00</td>\n",
              "      <td>2</td>\n",
              "      <td>0</td>\n",
              "      <td>0</td>\n",
              "      <td>93826.63</td>\n",
              "      <td>0</td>\n",
              "    </tr>\n",
              "    <tr>\n",
              "      <th>4</th>\n",
              "      <td>850</td>\n",
              "      <td>Spain</td>\n",
              "      <td>Female</td>\n",
              "      <td>43</td>\n",
              "      <td>2</td>\n",
              "      <td>125510.82</td>\n",
              "      <td>1</td>\n",
              "      <td>1</td>\n",
              "      <td>1</td>\n",
              "      <td>79084.10</td>\n",
              "      <td>0</td>\n",
              "    </tr>\n",
              "  </tbody>\n",
              "</table>\n",
              "</div>"
            ],
            "text/plain": [
              "   CreditScore Geography  Gender  ...  IsActiveMember  EstimatedSalary  Exited\n",
              "0          619    France  Female  ...               1        101348.88       1\n",
              "1          608     Spain  Female  ...               1        112542.58       0\n",
              "2          502    France  Female  ...               0        113931.57       1\n",
              "3          699    France  Female  ...               0         93826.63       0\n",
              "4          850     Spain  Female  ...               1         79084.10       0\n",
              "\n",
              "[5 rows x 11 columns]"
            ]
          },
          "metadata": {},
          "execution_count": 38
        }
      ]
    },
    {
      "cell_type": "code",
      "metadata": {
        "id": "6kxjLDaklqtz"
      },
      "source": [
        "df = pd.get_dummies(df)"
      ],
      "execution_count": 39,
      "outputs": []
    },
    {
      "cell_type": "code",
      "metadata": {
        "colab": {
          "base_uri": "https://localhost:8080/",
          "height": 204
        },
        "id": "-bUZSHYlnOhn",
        "outputId": "112911a8-76cf-4680-9ce4-7722cbf8c355"
      },
      "source": [
        "df.head()"
      ],
      "execution_count": 40,
      "outputs": [
        {
          "output_type": "execute_result",
          "data": {
            "text/html": [
              "<div>\n",
              "<style scoped>\n",
              "    .dataframe tbody tr th:only-of-type {\n",
              "        vertical-align: middle;\n",
              "    }\n",
              "\n",
              "    .dataframe tbody tr th {\n",
              "        vertical-align: top;\n",
              "    }\n",
              "\n",
              "    .dataframe thead th {\n",
              "        text-align: right;\n",
              "    }\n",
              "</style>\n",
              "<table border=\"1\" class=\"dataframe\">\n",
              "  <thead>\n",
              "    <tr style=\"text-align: right;\">\n",
              "      <th></th>\n",
              "      <th>CreditScore</th>\n",
              "      <th>Age</th>\n",
              "      <th>Tenure</th>\n",
              "      <th>Balance</th>\n",
              "      <th>NumOfProducts</th>\n",
              "      <th>HasCrCard</th>\n",
              "      <th>IsActiveMember</th>\n",
              "      <th>EstimatedSalary</th>\n",
              "      <th>Exited</th>\n",
              "      <th>Geography_France</th>\n",
              "      <th>Geography_Germany</th>\n",
              "      <th>Geography_Spain</th>\n",
              "      <th>Gender_Female</th>\n",
              "      <th>Gender_Male</th>\n",
              "    </tr>\n",
              "  </thead>\n",
              "  <tbody>\n",
              "    <tr>\n",
              "      <th>0</th>\n",
              "      <td>619</td>\n",
              "      <td>42</td>\n",
              "      <td>2</td>\n",
              "      <td>0.00</td>\n",
              "      <td>1</td>\n",
              "      <td>1</td>\n",
              "      <td>1</td>\n",
              "      <td>101348.88</td>\n",
              "      <td>1</td>\n",
              "      <td>1</td>\n",
              "      <td>0</td>\n",
              "      <td>0</td>\n",
              "      <td>1</td>\n",
              "      <td>0</td>\n",
              "    </tr>\n",
              "    <tr>\n",
              "      <th>1</th>\n",
              "      <td>608</td>\n",
              "      <td>41</td>\n",
              "      <td>1</td>\n",
              "      <td>83807.86</td>\n",
              "      <td>1</td>\n",
              "      <td>0</td>\n",
              "      <td>1</td>\n",
              "      <td>112542.58</td>\n",
              "      <td>0</td>\n",
              "      <td>0</td>\n",
              "      <td>0</td>\n",
              "      <td>1</td>\n",
              "      <td>1</td>\n",
              "      <td>0</td>\n",
              "    </tr>\n",
              "    <tr>\n",
              "      <th>2</th>\n",
              "      <td>502</td>\n",
              "      <td>42</td>\n",
              "      <td>8</td>\n",
              "      <td>159660.80</td>\n",
              "      <td>3</td>\n",
              "      <td>1</td>\n",
              "      <td>0</td>\n",
              "      <td>113931.57</td>\n",
              "      <td>1</td>\n",
              "      <td>1</td>\n",
              "      <td>0</td>\n",
              "      <td>0</td>\n",
              "      <td>1</td>\n",
              "      <td>0</td>\n",
              "    </tr>\n",
              "    <tr>\n",
              "      <th>3</th>\n",
              "      <td>699</td>\n",
              "      <td>39</td>\n",
              "      <td>1</td>\n",
              "      <td>0.00</td>\n",
              "      <td>2</td>\n",
              "      <td>0</td>\n",
              "      <td>0</td>\n",
              "      <td>93826.63</td>\n",
              "      <td>0</td>\n",
              "      <td>1</td>\n",
              "      <td>0</td>\n",
              "      <td>0</td>\n",
              "      <td>1</td>\n",
              "      <td>0</td>\n",
              "    </tr>\n",
              "    <tr>\n",
              "      <th>4</th>\n",
              "      <td>850</td>\n",
              "      <td>43</td>\n",
              "      <td>2</td>\n",
              "      <td>125510.82</td>\n",
              "      <td>1</td>\n",
              "      <td>1</td>\n",
              "      <td>1</td>\n",
              "      <td>79084.10</td>\n",
              "      <td>0</td>\n",
              "      <td>0</td>\n",
              "      <td>0</td>\n",
              "      <td>1</td>\n",
              "      <td>1</td>\n",
              "      <td>0</td>\n",
              "    </tr>\n",
              "  </tbody>\n",
              "</table>\n",
              "</div>"
            ],
            "text/plain": [
              "   CreditScore  Age  Tenure  ...  Geography_Spain  Gender_Female  Gender_Male\n",
              "0          619   42       2  ...                0              1            0\n",
              "1          608   41       1  ...                1              1            0\n",
              "2          502   42       8  ...                0              1            0\n",
              "3          699   39       1  ...                0              1            0\n",
              "4          850   43       2  ...                1              1            0\n",
              "\n",
              "[5 rows x 14 columns]"
            ]
          },
          "metadata": {},
          "execution_count": 40
        }
      ]
    },
    {
      "cell_type": "code",
      "metadata": {
        "colab": {
          "base_uri": "https://localhost:8080/"
        },
        "id": "onSDRh5Sem5A",
        "outputId": "1b7d9a1b-f90b-4ccc-a631-86d212569a39"
      },
      "source": [
        "df.dtypes"
      ],
      "execution_count": 41,
      "outputs": [
        {
          "output_type": "execute_result",
          "data": {
            "text/plain": [
              "CreditScore            int64\n",
              "Age                    int64\n",
              "Tenure                 int64\n",
              "Balance              float64\n",
              "NumOfProducts          int64\n",
              "HasCrCard              int64\n",
              "IsActiveMember         int64\n",
              "EstimatedSalary      float64\n",
              "Exited                 int64\n",
              "Geography_France       uint8\n",
              "Geography_Germany      uint8\n",
              "Geography_Spain        uint8\n",
              "Gender_Female          uint8\n",
              "Gender_Male            uint8\n",
              "dtype: object"
            ]
          },
          "metadata": {},
          "execution_count": 41
        }
      ]
    },
    {
      "cell_type": "markdown",
      "metadata": {
        "id": "UYjEhL65e6NM"
      },
      "source": [
        "## XGBoost (classes desbalanceadas)\n",
        "- Modelo com classes desbalancedas\n",
        "- A escolha do XGBoost para a construção do modelo, deu-se após testes de outros algoritmos como (Regressão logistíca, DecisionTree). No qual, o XGBoost obteve uma melhor performance nos 3 cenários descritos abaixo\n",
        "- Apesar que não foi feito um *tunning* de parâmetros, o modelo obteve uma boa perfomance\n"
      ]
    },
    {
      "cell_type": "code",
      "metadata": {
        "id": "Y8eBSOtAgXpG"
      },
      "source": [
        "# Criando instância\n",
        "clf = xgboost.XGBRFClassifier(max_depth=10, random_state=22)"
      ],
      "execution_count": 97,
      "outputs": []
    },
    {
      "cell_type": "code",
      "metadata": {
        "id": "piqsfQCHeucu"
      },
      "source": [
        "# Separando o X e y (variável alvo)\n",
        "X = df.drop(columns=['Exited'])\n",
        "y = df.Exited"
      ],
      "execution_count": 98,
      "outputs": []
    },
    {
      "cell_type": "code",
      "metadata": {
        "id": "09Dh2eEveumg"
      },
      "source": [
        "# Separando os dados em treino e teste\n",
        "X_train, X_test, y_train, y_test = train_test_split(X, \n",
        "                                                     y,\n",
        "                                                     random_state=22,\n",
        "                                                     stratify=y,\n",
        "                                                     test_size=0.3,\n",
        "                                                     train_size=0.7) "
      ],
      "execution_count": 99,
      "outputs": []
    },
    {
      "cell_type": "markdown",
      "metadata": {
        "id": "Bj21dsHhgNOS"
      },
      "source": [
        "### Treinar o modelo"
      ]
    },
    {
      "cell_type": "code",
      "metadata": {
        "colab": {
          "base_uri": "https://localhost:8080/"
        },
        "id": "tt2TgMIqevCH",
        "outputId": "3f76a7a8-cc3c-4a07-d13d-4774322bdc66"
      },
      "source": [
        "clf.fit(X_train, y_train)"
      ],
      "execution_count": 100,
      "outputs": [
        {
          "output_type": "execute_result",
          "data": {
            "text/plain": [
              "XGBRFClassifier(base_score=0.5, colsample_bylevel=1, colsample_bynode=0.8,\n",
              "                colsample_bytree=1, gamma=0, learning_rate=1, max_delta_step=0,\n",
              "                max_depth=10, min_child_weight=1, missing=None,\n",
              "                n_estimators=100, n_jobs=1, nthread=None,\n",
              "                objective='binary:logistic', random_state=22, reg_alpha=0,\n",
              "                reg_lambda=1, scale_pos_weight=1, seed=None, silent=None,\n",
              "                subsample=0.8, verbosity=1)"
            ]
          },
          "metadata": {},
          "execution_count": 100
        }
      ]
    },
    {
      "cell_type": "markdown",
      "metadata": {
        "id": "MfggYdH9gqrU"
      },
      "source": [
        "#### Verificando a performance\n",
        "- Acurácia (não é um bom medidor visto que as classes são balanceadas, % de acerto do modelo)"
      ]
    },
    {
      "cell_type": "code",
      "metadata": {
        "id": "C53frXn6giV-"
      },
      "source": [
        "y_pred = clf.predict(X_test)"
      ],
      "execution_count": 101,
      "outputs": []
    },
    {
      "cell_type": "code",
      "metadata": {
        "colab": {
          "base_uri": "https://localhost:8080/"
        },
        "id": "c9bUv-VvgqrU",
        "outputId": "05c3bc06-a22d-480b-9cac-10312eed96c4"
      },
      "source": [
        "print(\"Acurácia: %.2f%%\" % (accuracy_score(y_test, y_pred) * 100))"
      ],
      "execution_count": 102,
      "outputs": [
        {
          "output_type": "stream",
          "name": "stdout",
          "text": [
            "Acurácia: 85.60%\n"
          ]
        }
      ]
    },
    {
      "cell_type": "markdown",
      "metadata": {
        "id": "1ulSbBMagrOy"
      },
      "source": [
        "### Relatório de Classificação\n",
        "- Importante observar as *Métricas* Precision e Recall"
      ]
    },
    {
      "cell_type": "code",
      "metadata": {
        "colab": {
          "base_uri": "https://localhost:8080/"
        },
        "id": "PiPR1JixgrOz",
        "outputId": "2a2d3198-c27e-4c1c-98e3-4b51eb5aed0b"
      },
      "source": [
        "print(classification_report(y_test, y_pred))"
      ],
      "execution_count": 103,
      "outputs": [
        {
          "output_type": "stream",
          "name": "stdout",
          "text": [
            "              precision    recall  f1-score   support\n",
            "\n",
            "           0       0.87      0.97      0.91      2389\n",
            "           1       0.76      0.43      0.55       611\n",
            "\n",
            "    accuracy                           0.86      3000\n",
            "   macro avg       0.82      0.70      0.73      3000\n",
            "weighted avg       0.85      0.86      0.84      3000\n",
            "\n"
          ]
        }
      ]
    },
    {
      "cell_type": "markdown",
      "metadata": {
        "id": "T-RgsflfioBp"
      },
      "source": [
        "#### Matriz de confusão"
      ]
    },
    {
      "cell_type": "code",
      "metadata": {
        "colab": {
          "base_uri": "https://localhost:8080/"
        },
        "id": "8tLtNd-NioBw",
        "outputId": "57f93d22-9329-48d1-af32-7e9d084556b2"
      },
      "source": [
        "print(pd.crosstab(y_test, y_pred, rownames=['Real'], colnames=['Predito'], margins=True))"
      ],
      "execution_count": 104,
      "outputs": [
        {
          "output_type": "stream",
          "name": "stdout",
          "text": [
            "Predito     0    1   All\n",
            "Real                    \n",
            "0        2308   81  2389\n",
            "1         351  260   611\n",
            "All      2659  341  3000\n"
          ]
        }
      ]
    },
    {
      "cell_type": "markdown",
      "metadata": {
        "id": "DP6wWVB47y-P"
      },
      "source": [
        "### Algumas conclusões\n",
        "- Podemos observa que na métrica de recall e também no f1-score. O modelo errou muito na classe 1 (minoritária) em relação a classe 0 (marjoritária)\n",
        "- E na matriz de confusão também percebemos isso, o modelo acertou bastante para a classe marjoritária"
      ]
    },
    {
      "cell_type": "code",
      "metadata": {
        "id": "40-NaxnL7yBx"
      },
      "source": [
        ""
      ],
      "execution_count": null,
      "outputs": []
    },
    {
      "cell_type": "markdown",
      "metadata": {
        "id": "FQys2zeJklyl"
      },
      "source": [
        "## Vamos aplicar a NearMiss\n",
        "- NearMiss é um método de *Undersampling*\n",
        "- *Undersampling* iguala as quantidades de amostras entre as classes"
      ]
    },
    {
      "cell_type": "markdown",
      "metadata": {
        "id": "J0cETynvkmga"
      },
      "source": [
        "## Aplicando o NearMiss nos dados para igualar a quantidade de amostras das classes"
      ]
    },
    {
      "cell_type": "code",
      "metadata": {
        "id": "_hR6bbT_IWBl"
      },
      "source": [
        "# Separando o X e y (variável alvo)\n",
        "X = df.drop(columns=['Exited'])\n",
        "y = df.Exited"
      ],
      "execution_count": 105,
      "outputs": []
    },
    {
      "cell_type": "code",
      "metadata": {
        "id": "bh1uwkJLklyy"
      },
      "source": [
        "# Criando instância\n",
        "nr = NearMiss()"
      ],
      "execution_count": 106,
      "outputs": []
    },
    {
      "cell_type": "code",
      "metadata": {
        "id": "q1ZYE6i3kmgb"
      },
      "source": [
        "# Aplicando o NearMiss\n",
        "X, y = nr.fit_sample(X, y)"
      ],
      "execution_count": 107,
      "outputs": []
    },
    {
      "cell_type": "code",
      "metadata": {
        "colab": {
          "base_uri": "https://localhost:8080/",
          "height": 343
        },
        "id": "xfOX3ihwmHir",
        "outputId": "fbebf360-8b9a-4363-884a-4367d9e8c1a4"
      },
      "source": [
        "plt.figure(figsize=(10,5))\n",
        "plt.title('NearMiss diminuiu a classe marjoritária', fontsize=18)\n",
        "plt.xlabel('',fontsize=18)\n",
        "plt.xticks(fontsize=12)\n",
        "plt.yticks(fontsize=12)\n",
        "\n",
        "sns.countplot(x=y)\n",
        "\n",
        "plt.show()"
      ],
      "execution_count": 108,
      "outputs": [
        {
          "output_type": "display_data",
          "data": {
            "image/png": "[encoded data removed]",
            "text/plain": [
              "<Figure size 720x360 with 1 Axes>"
            ]
          },
          "metadata": {}
        }
      ]
    },
    {
      "cell_type": "markdown",
      "metadata": {
        "id": "matY6IaLmoGG"
      },
      "source": [
        "## Criar novamente o modelo com XGBoost"
      ]
    },
    {
      "cell_type": "code",
      "metadata": {
        "id": "-rKz496XmdNy"
      },
      "source": [
        "X_train, X_test, y_train, y_test = train_test_split(X, \n",
        "                                                     y,\n",
        "                                                     random_state=22,\n",
        "                                                     stratify=y,\n",
        "                                                     test_size=0.3,\n",
        "                                                     train_size=0.7)"
      ],
      "execution_count": 109,
      "outputs": []
    },
    {
      "cell_type": "code",
      "metadata": {
        "id": "NG-3iZxfmd0a"
      },
      "source": [
        "clf = xgboost.XGBRFClassifier(max_depth=10, random_state=22)\n",
        "clf.fit(X_train, y_train) # Treina o modelo\n",
        "y_pred = clf.predict(X_test) # faz a classificação"
      ],
      "execution_count": 110,
      "outputs": []
    },
    {
      "cell_type": "code",
      "metadata": {
        "colab": {
          "base_uri": "https://localhost:8080/"
        },
        "id": "4gJ_TcV8meBq",
        "outputId": "4afc4684-0251-4b7c-e34c-8c690c1e2206"
      },
      "source": [
        "print(\"Acurácia: %.2f%%\" % (accuracy_score(y_test, y_pred) * 100)) # Verificando acurácia"
      ],
      "execution_count": 111,
      "outputs": [
        {
          "output_type": "stream",
          "name": "stdout",
          "text": [
            "Acurácia: 91.01%\n"
          ]
        }
      ]
    },
    {
      "cell_type": "markdown",
      "metadata": {
        "id": "WOqrqiTlnkZE"
      },
      "source": [
        "### Acurácia aumentou\n",
        "- Porém a base de dados foi reduzida drasticamente após aplicar o *UnderSampling*\n",
        "- O ponto positivo é que o modelo soube lidar melhor com as duas classes"
      ]
    },
    {
      "cell_type": "code",
      "metadata": {
        "colab": {
          "base_uri": "https://localhost:8080/"
        },
        "id": "aTjDeFdknGWa",
        "outputId": "908950c6-d9e4-4428-fc4c-8bee9210fe55"
      },
      "source": [
        "print(classification_report(y_test, y_pred))"
      ],
      "execution_count": 112,
      "outputs": [
        {
          "output_type": "stream",
          "name": "stdout",
          "text": [
            "              precision    recall  f1-score   support\n",
            "\n",
            "           0       0.89      0.94      0.91       611\n",
            "           1       0.93      0.88      0.91       612\n",
            "\n",
            "    accuracy                           0.91      1223\n",
            "   macro avg       0.91      0.91      0.91      1223\n",
            "weighted avg       0.91      0.91      0.91      1223\n",
            "\n"
          ]
        }
      ]
    },
    {
      "cell_type": "markdown",
      "metadata": {
        "id": "fJ9h7BrIoD1l"
      },
      "source": [
        "### Matriz de confusão"
      ]
    },
    {
      "cell_type": "code",
      "metadata": {
        "colab": {
          "base_uri": "https://localhost:8080/"
        },
        "id": "3QcxGwZboD1m",
        "outputId": "b59b43bd-7c89-45a0-830c-73d1f524264e"
      },
      "source": [
        "print(pd.crosstab(y_test, y_pred, rownames=['Real'], colnames=['Predito'], margins=True))"
      ],
      "execution_count": 113,
      "outputs": [
        {
          "output_type": "stream",
          "name": "stdout",
          "text": [
            "Predito    0    1   All\n",
            "Real                   \n",
            "0        572   39   611\n",
            "1         71  541   612\n",
            "All      643  580  1223\n"
          ]
        }
      ]
    },
    {
      "cell_type": "markdown",
      "metadata": {
        "id": "W0PBa75Zsdfx"
      },
      "source": [
        "## Vamos aplicar a SMOTE\n",
        "- SMOTE é um método de *OverSamplig*\n",
        "- O SMOTE irá gerar dados sintéticos da classe minotirária"
      ]
    },
    {
      "cell_type": "code",
      "metadata": {
        "id": "egIHqs7zszYz"
      },
      "source": [
        "# Separando o X e y (variável alvo)\n",
        "X = df.drop(columns='Exited')\n",
        "y = df.Exited"
      ],
      "execution_count": 114,
      "outputs": []
    },
    {
      "cell_type": "markdown",
      "metadata": {
        "id": "376YGzqFCnzA"
      },
      "source": [
        "#### Criando objeto SMOTE\n",
        "- o parâmetro definido é o tamanho em porcentagem que a classe minoritária terá em relação a marjoritária"
      ]
    },
    {
      "cell_type": "code",
      "metadata": {
        "id": "ILV0ngd3s1CX"
      },
      "source": [
        "# Criando instância\n",
        "smt = SMOTE(sampling_strategy=0.7)"
      ],
      "execution_count": 115,
      "outputs": []
    },
    {
      "cell_type": "markdown",
      "metadata": {
        "id": "TtBPohkJDOGs"
      },
      "source": [
        "#### Aplicando o SMOTE nos dados"
      ]
    },
    {
      "cell_type": "code",
      "metadata": {
        "id": "z6ODg0VJti1V"
      },
      "source": [
        "# Aplicando o SMOTE\n",
        "X, y = smt.fit_sample(X,y)"
      ],
      "execution_count": 116,
      "outputs": []
    },
    {
      "cell_type": "markdown",
      "metadata": {
        "id": "qWg6bqq0DWSu"
      },
      "source": [
        "#### Visualizando a distribuição pós SMOTE"
      ]
    },
    {
      "cell_type": "code",
      "metadata": {
        "colab": {
          "base_uri": "https://localhost:8080/",
          "height": 282
        },
        "id": "ydJ1xumOtivy",
        "outputId": "16c926ed-1960-4ce8-97e5-34772ea3fb81"
      },
      "source": [
        "sns.countplot(x=y)"
      ],
      "execution_count": 117,
      "outputs": [
        {
          "output_type": "execute_result",
          "data": {
            "text/plain": [
              "<matplotlib.axes._subplots.AxesSubplot at 0x7f2aaa4c27d0>"
            ]
          },
          "metadata": {},
          "execution_count": 117
        },
        {
          "output_type": "display_data",
          "data": {
            "image/png": "[encoded data removed]",
            "text/plain": [
              "<Figure size 432x288 with 1 Axes>"
            ]
          },
          "metadata": {}
        }
      ]
    },
    {
      "cell_type": "markdown",
      "metadata": {
        "id": "_rj_Kys_DdyZ"
      },
      "source": [
        "#### Separando em treino e teste"
      ]
    },
    {
      "cell_type": "code",
      "metadata": {
        "id": "496lLiKZtitB"
      },
      "source": [
        "X_train, X_test, y_train, y_test = train_test_split(X, \n",
        "                                                     y,\n",
        "                                                     random_state=22,\n",
        "                                                     stratify=y,\n",
        "                                                     test_size=0.3,\n",
        "                                                     train_size=0.7)"
      ],
      "execution_count": 118,
      "outputs": []
    },
    {
      "cell_type": "code",
      "metadata": {
        "colab": {
          "base_uri": "https://localhost:8080/"
        },
        "id": "NTEvXaaltimF",
        "outputId": "0e4472f8-0dac-4a6c-a59d-90017e95af6b"
      },
      "source": [
        "clf = xgboost.XGBRFClassifier(max_depth=10, random_state=22)\n",
        "clf.fit(X_train, y_train)"
      ],
      "execution_count": 119,
      "outputs": [
        {
          "output_type": "execute_result",
          "data": {
            "text/plain": [
              "XGBRFClassifier(base_score=0.5, colsample_bylevel=1, colsample_bynode=0.8,\n",
              "                colsample_bytree=1, gamma=0, learning_rate=1, max_delta_step=0,\n",
              "                max_depth=10, min_child_weight=1, missing=None,\n",
              "                n_estimators=100, n_jobs=1, nthread=None,\n",
              "                objective='binary:logistic', random_state=22, reg_alpha=0,\n",
              "                reg_lambda=1, scale_pos_weight=1, seed=None, silent=None,\n",
              "                subsample=0.8, verbosity=1)"
            ]
          },
          "metadata": {},
          "execution_count": 119
        }
      ]
    },
    {
      "cell_type": "code",
      "metadata": {
        "id": "4JRAAgzbtiZD"
      },
      "source": [
        "y_pred = clf.predict(X_test) # faz a classificação"
      ],
      "execution_count": 120,
      "outputs": []
    },
    {
      "cell_type": "code",
      "metadata": {
        "colab": {
          "base_uri": "https://localhost:8080/"
        },
        "id": "Vzo-A6k8JpYD",
        "outputId": "0fbe3b87-3fa9-4605-9b59-0ffa8a7214bc"
      },
      "source": [
        "print(\"Acurácia: %.2f%%\" % (accuracy_score(y_test, y_pred) * 100)) # Verificando acurácia"
      ],
      "execution_count": 121,
      "outputs": [
        {
          "output_type": "stream",
          "name": "stdout",
          "text": [
            "Acurácia: 88.36%\n"
          ]
        }
      ]
    },
    {
      "cell_type": "code",
      "metadata": {
        "colab": {
          "base_uri": "https://localhost:8080/"
        },
        "id": "KCpUf7T1Jpli",
        "outputId": "542b75a2-d65e-4c2f-865b-659027477d7d"
      },
      "source": [
        "print(classification_report(y_test, y_pred))"
      ],
      "execution_count": 122,
      "outputs": [
        {
          "output_type": "stream",
          "name": "stdout",
          "text": [
            "              precision    recall  f1-score   support\n",
            "\n",
            "           0       0.87      0.94      0.90      2389\n",
            "           1       0.91      0.80      0.85      1673\n",
            "\n",
            "    accuracy                           0.88      4062\n",
            "   macro avg       0.89      0.87      0.88      4062\n",
            "weighted avg       0.89      0.88      0.88      4062\n",
            "\n"
          ]
        }
      ]
    },
    {
      "cell_type": "code",
      "metadata": {
        "colab": {
          "base_uri": "https://localhost:8080/"
        },
        "id": "wd8xS_30Jpow",
        "outputId": "cc0e7f31-9b25-4040-d63d-e89abd06e988"
      },
      "source": [
        "print(pd.crosstab(y_test, y_pred, rownames=['Real'], colnames=['Predito'], margins=True))"
      ],
      "execution_count": 123,
      "outputs": [
        {
          "output_type": "stream",
          "name": "stdout",
          "text": [
            "Predito     0     1   All\n",
            "Real                     \n",
            "0        2249   140  2389\n",
            "1         333  1340  1673\n",
            "All      2582  1480  4062\n"
          ]
        }
      ]
    },
    {
      "cell_type": "markdown",
      "metadata": {
        "id": "5G2BrZMx85gY"
      },
      "source": [
        "# Conclusão\n",
        "- O primeiro modelo apesar de que obteve uma boa acurária, aprendeu bastante sobre a classe marjoritária e muito pouco sobre a classe minoritária\n",
        "- O segundo modelo o maior problema foi a grande redução da base de dados\n",
        "- O terceiro modelo apesar de ter tido fornecido dados sintéticos, acredito que é o modelo mais viável (dependendo da métrica)"
      ]
    },
    {
      "cell_type": "markdown",
      "metadata": {
        "id": "dOg-Ojvs_OWe"
      },
      "source": [
        "## Métricas\n"
      ]
    },
    {
      "cell_type": "markdown",
      "metadata": {
        "id": "50pTJS8ldRrH"
      },
      "source": [
        "## Precision\n",
        "- dos casos que eu previ como positivos (para uma classe) quantos realmente são?\n",
        "- orçamento *interessa*\n",
        "\n",
        "## Recall\n",
        "- dos que eram realmente positivos (para uma classe) quantos eu detectei?\n",
        "- taxa de detecção\n",
        "- orçamento não pesa\n",
        "\n",
        "## F1 Score\n",
        "- média harmônica entre os dois acima"
      ]
    }
  ]
}